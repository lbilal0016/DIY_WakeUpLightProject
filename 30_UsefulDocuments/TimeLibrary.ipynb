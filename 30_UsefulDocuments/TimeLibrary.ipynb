{
 "cells": [
  {
   "cell_type": "markdown",
   "metadata": {},
   "source": [
    "#   Time Library\n",
    "##  Get current time in hours, minutes, and seconds\n",
    "\n",
    "Use the following code to get a time object including hour and minute information in python3\n",
    "[Source](https://www.toppr.com/guides/python-guide/tutorials/python-date-and-time/date-time/current-time/python-get-current-time/#:~:text=strftime()%20method.,use%20the%20time()%20function.)"
   ]
  },
  {
   "cell_type": "code",
   "execution_count": 1,
   "metadata": {},
   "outputs": [
    {
     "name": "stdout",
     "output_type": "stream",
     "text": [
      "Hours: 17\n",
      "Minutes: 14\n",
      "Seconds: 2\n",
      "Current Time: 17:14:02.748126\n",
      "Current Time: Sat Dec  7 17:14:02 2024\n"
     ]
    }
   ],
   "source": [
    "from datetime import datetime\n",
    "import time\n",
    "\n",
    "# Method 1\n",
    "t = time.localtime(time.time())\n",
    "print('Hours:', t.tm_hour)\n",
    "print('Minutes:', t.tm_min)\n",
    "print('Seconds:', t.tm_sec)\n",
    "\n",
    "# Method 2\n",
    "now = datetime.now()\n",
    "print('Current Time:', now.time())\n",
    "\n",
    "# Method 3\n",
    "print('Current Time:', time.ctime())"
   ]
  }
 ],
 "metadata": {
  "kernelspec": {
   "display_name": "base",
   "language": "python",
   "name": "python3"
  },
  "language_info": {
   "codemirror_mode": {
    "name": "ipython",
    "version": 3
   },
   "file_extension": ".py",
   "mimetype": "text/x-python",
   "name": "python",
   "nbconvert_exporter": "python",
   "pygments_lexer": "ipython3",
   "version": "3.11.5"
  }
 },
 "nbformat": 4,
 "nbformat_minor": 2
}
